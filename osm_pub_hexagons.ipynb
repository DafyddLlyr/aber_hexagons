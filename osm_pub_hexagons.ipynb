{
 "cells": [
  {
   "cell_type": "markdown",
   "metadata": {},
   "source": [
    "Setup imports"
   ]
  },
  {
   "cell_type": "code",
   "execution_count": 83,
   "metadata": {},
   "outputs": [],
   "source": [
    "import requests\n",
    "import pandas as pd\n",
    "import geopandas as gpd\n",
    "from keplergl import KeplerGl\n",
    "import h3\n",
    "import json"
   ]
  },
  {
   "cell_type": "markdown",
   "metadata": {},
   "source": [
    "Query OSM for all pubs in the UK using the Overpass API\n",
    "Note - Scotland commented out"
   ]
  },
  {
   "cell_type": "code",
   "execution_count": 84,
   "metadata": {},
   "outputs": [],
   "source": [
    "overpass_url = \"http://overpass-api.de/api/interpreter\"\n",
    "overpass_query = \"\"\"\n",
    "[out:json];\n",
    "area[\"ISO3166-1\"=\"GB\"][admin_level=2];\n",
    "node[\"amenity\"=\"pub\"](area);\n",
    "out;\n",
    "\"\"\"\n",
    "response = requests.get(overpass_url, params={'data': overpass_query})\n",
    "data = response.json()\n",
    "\n",
    "# area[\"ISO3166-2\"=\"GB-SCT\"];"
   ]
  },
  {
   "cell_type": "markdown",
   "metadata": {},
   "source": [
    "Create Geodataframe of results"
   ]
  },
  {
   "cell_type": "code",
   "execution_count": 85,
   "metadata": {},
   "outputs": [
    {
     "data": {
      "text/html": [
       "<div>\n",
       "<style scoped>\n",
       "    .dataframe tbody tr th:only-of-type {\n",
       "        vertical-align: middle;\n",
       "    }\n",
       "\n",
       "    .dataframe tbody tr th {\n",
       "        vertical-align: top;\n",
       "    }\n",
       "\n",
       "    .dataframe thead th {\n",
       "        text-align: right;\n",
       "    }\n",
       "</style>\n",
       "<table border=\"1\" class=\"dataframe\">\n",
       "  <thead>\n",
       "    <tr style=\"text-align: right;\">\n",
       "      <th></th>\n",
       "      <th>type</th>\n",
       "      <th>id</th>\n",
       "      <th>lat</th>\n",
       "      <th>lon</th>\n",
       "      <th>tags</th>\n",
       "      <th>geometry</th>\n",
       "    </tr>\n",
       "  </thead>\n",
       "  <tbody>\n",
       "    <tr>\n",
       "      <th>0</th>\n",
       "      <td>node</td>\n",
       "      <td>262706</td>\n",
       "      <td>51.035030</td>\n",
       "      <td>-0.725178</td>\n",
       "      <td>{'addr:postcode': 'GU27 3HA', 'addr:street': '...</td>\n",
       "      <td>POINT (51.03503 -0.72518)</td>\n",
       "    </tr>\n",
       "    <tr>\n",
       "      <th>1</th>\n",
       "      <td>node</td>\n",
       "      <td>262707</td>\n",
       "      <td>51.043900</td>\n",
       "      <td>-0.854808</td>\n",
       "      <td>{'addr:postcode': 'GU33 7JB', 'addr:street': '...</td>\n",
       "      <td>POINT (51.04390 -0.85481)</td>\n",
       "    </tr>\n",
       "    <tr>\n",
       "      <th>2</th>\n",
       "      <td>node</td>\n",
       "      <td>262708</td>\n",
       "      <td>51.024400</td>\n",
       "      <td>-0.726258</td>\n",
       "      <td>{'addr:city': 'Haslemere', 'addr:place': 'Henl...</td>\n",
       "      <td>POINT (51.02440 -0.72626)</td>\n",
       "    </tr>\n",
       "    <tr>\n",
       "      <th>3</th>\n",
       "      <td>node</td>\n",
       "      <td>262709</td>\n",
       "      <td>50.993224</td>\n",
       "      <td>-0.779150</td>\n",
       "      <td>{'addr:place': 'Stedham', 'addr:postcode': 'GU...</td>\n",
       "      <td>POINT (50.99322 -0.77915)</td>\n",
       "    </tr>\n",
       "    <tr>\n",
       "      <th>4</th>\n",
       "      <td>node</td>\n",
       "      <td>262714</td>\n",
       "      <td>51.035900</td>\n",
       "      <td>-0.805651</td>\n",
       "      <td>{'addr:city': 'Liphook', 'addr:postcode': 'GU3...</td>\n",
       "      <td>POINT (51.03590 -0.80565)</td>\n",
       "    </tr>\n",
       "  </tbody>\n",
       "</table>\n",
       "</div>"
      ],
      "text/plain": [
       "   type      id        lat       lon  \\\n",
       "0  node  262706  51.035030 -0.725178   \n",
       "1  node  262707  51.043900 -0.854808   \n",
       "2  node  262708  51.024400 -0.726258   \n",
       "3  node  262709  50.993224 -0.779150   \n",
       "4  node  262714  51.035900 -0.805651   \n",
       "\n",
       "                                                tags  \\\n",
       "0  {'addr:postcode': 'GU27 3HA', 'addr:street': '...   \n",
       "1  {'addr:postcode': 'GU33 7JB', 'addr:street': '...   \n",
       "2  {'addr:city': 'Haslemere', 'addr:place': 'Henl...   \n",
       "3  {'addr:place': 'Stedham', 'addr:postcode': 'GU...   \n",
       "4  {'addr:city': 'Liphook', 'addr:postcode': 'GU3...   \n",
       "\n",
       "                    geometry  \n",
       "0  POINT (51.03503 -0.72518)  \n",
       "1  POINT (51.04390 -0.85481)  \n",
       "2  POINT (51.02440 -0.72626)  \n",
       "3  POINT (50.99322 -0.77915)  \n",
       "4  POINT (51.03590 -0.80565)  "
      ]
     },
     "execution_count": 85,
     "metadata": {},
     "output_type": "execute_result"
    }
   ],
   "source": [
    "df = pd.DataFrame.from_dict(data[\"elements\"])\n",
    "df.head()\n",
    "gdf = gpd.GeoDataFrame(df, geometry=gpd.points_from_xy(df.lat, df.lon))\n",
    "gdf = gdf.set_geometry(\"geometry\")\n",
    "gdf.head()"
   ]
  },
  {
   "cell_type": "markdown",
   "metadata": {},
   "source": [
    "Add H3 index to the GeoDataFrame\n",
    "This will allow Kepler to render a H3 layer"
   ]
  },
  {
   "cell_type": "code",
   "execution_count": 86,
   "metadata": {},
   "outputs": [
    {
     "data": {
      "text/html": [
       "<div>\n",
       "<style scoped>\n",
       "    .dataframe tbody tr th:only-of-type {\n",
       "        vertical-align: middle;\n",
       "    }\n",
       "\n",
       "    .dataframe tbody tr th {\n",
       "        vertical-align: top;\n",
       "    }\n",
       "\n",
       "    .dataframe thead th {\n",
       "        text-align: right;\n",
       "    }\n",
       "</style>\n",
       "<table border=\"1\" class=\"dataframe\">\n",
       "  <thead>\n",
       "    <tr style=\"text-align: right;\">\n",
       "      <th></th>\n",
       "      <th>type</th>\n",
       "      <th>id</th>\n",
       "      <th>lat</th>\n",
       "      <th>lon</th>\n",
       "      <th>tags</th>\n",
       "      <th>geometry</th>\n",
       "      <th>hex_id</th>\n",
       "    </tr>\n",
       "  </thead>\n",
       "  <tbody>\n",
       "    <tr>\n",
       "      <th>0</th>\n",
       "      <td>node</td>\n",
       "      <td>262706</td>\n",
       "      <td>51.035030</td>\n",
       "      <td>-0.725178</td>\n",
       "      <td>{'addr:postcode': 'GU27 3HA', 'addr:street': '...</td>\n",
       "      <td>POINT (51.03503 -0.72518)</td>\n",
       "      <td>85194a4bfffffff</td>\n",
       "    </tr>\n",
       "    <tr>\n",
       "      <th>1</th>\n",
       "      <td>node</td>\n",
       "      <td>262707</td>\n",
       "      <td>51.043900</td>\n",
       "      <td>-0.854808</td>\n",
       "      <td>{'addr:postcode': 'GU33 7JB', 'addr:street': '...</td>\n",
       "      <td>POINT (51.04390 -0.85481)</td>\n",
       "      <td>85194a4bfffffff</td>\n",
       "    </tr>\n",
       "    <tr>\n",
       "      <th>2</th>\n",
       "      <td>node</td>\n",
       "      <td>262708</td>\n",
       "      <td>51.024400</td>\n",
       "      <td>-0.726258</td>\n",
       "      <td>{'addr:city': 'Haslemere', 'addr:place': 'Henl...</td>\n",
       "      <td>POINT (51.02440 -0.72626)</td>\n",
       "      <td>85194a4bfffffff</td>\n",
       "    </tr>\n",
       "    <tr>\n",
       "      <th>3</th>\n",
       "      <td>node</td>\n",
       "      <td>262709</td>\n",
       "      <td>50.993224</td>\n",
       "      <td>-0.779150</td>\n",
       "      <td>{'addr:place': 'Stedham', 'addr:postcode': 'GU...</td>\n",
       "      <td>POINT (50.99322 -0.77915)</td>\n",
       "      <td>85194a4bfffffff</td>\n",
       "    </tr>\n",
       "    <tr>\n",
       "      <th>4</th>\n",
       "      <td>node</td>\n",
       "      <td>262714</td>\n",
       "      <td>51.035900</td>\n",
       "      <td>-0.805651</td>\n",
       "      <td>{'addr:city': 'Liphook', 'addr:postcode': 'GU3...</td>\n",
       "      <td>POINT (51.03590 -0.80565)</td>\n",
       "      <td>85194a4bfffffff</td>\n",
       "    </tr>\n",
       "  </tbody>\n",
       "</table>\n",
       "</div>"
      ],
      "text/plain": [
       "   type      id        lat       lon  \\\n",
       "0  node  262706  51.035030 -0.725178   \n",
       "1  node  262707  51.043900 -0.854808   \n",
       "2  node  262708  51.024400 -0.726258   \n",
       "3  node  262709  50.993224 -0.779150   \n",
       "4  node  262714  51.035900 -0.805651   \n",
       "\n",
       "                                                tags  \\\n",
       "0  {'addr:postcode': 'GU27 3HA', 'addr:street': '...   \n",
       "1  {'addr:postcode': 'GU33 7JB', 'addr:street': '...   \n",
       "2  {'addr:city': 'Haslemere', 'addr:place': 'Henl...   \n",
       "3  {'addr:place': 'Stedham', 'addr:postcode': 'GU...   \n",
       "4  {'addr:city': 'Liphook', 'addr:postcode': 'GU3...   \n",
       "\n",
       "                    geometry           hex_id  \n",
       "0  POINT (51.03503 -0.72518)  85194a4bfffffff  \n",
       "1  POINT (51.04390 -0.85481)  85194a4bfffffff  \n",
       "2  POINT (51.02440 -0.72626)  85194a4bfffffff  \n",
       "3  POINT (50.99322 -0.77915)  85194a4bfffffff  \n",
       "4  POINT (51.03590 -0.80565)  85194a4bfffffff  "
      ]
     },
     "execution_count": 86,
     "metadata": {},
     "output_type": "execute_result"
    }
   ],
   "source": [
    "h3_level = 5\n",
    " \n",
    "def geom_to_h3(row):\n",
    "  return h3.geo_to_h3(row.geometry.x, row.geometry.y, h3_level)\n",
    "\n",
    "gdf[\"hex_id\"] = gdf.apply(geom_to_h3, axis=1)\n",
    "gdf.head()"
   ]
  },
  {
   "cell_type": "markdown",
   "metadata": {},
   "source": [
    "Create a DataFrame of the H3 index and pub count\n",
    "This is what will be rendered on the map"
   ]
  },
  {
   "cell_type": "code",
   "execution_count": 87,
   "metadata": {},
   "outputs": [
    {
     "data": {
      "text/html": [
       "<div>\n",
       "<style scoped>\n",
       "    .dataframe tbody tr th:only-of-type {\n",
       "        vertical-align: middle;\n",
       "    }\n",
       "\n",
       "    .dataframe tbody tr th {\n",
       "        vertical-align: top;\n",
       "    }\n",
       "\n",
       "    .dataframe thead th {\n",
       "        text-align: right;\n",
       "    }\n",
       "</style>\n",
       "<table border=\"1\" class=\"dataframe\">\n",
       "  <thead>\n",
       "    <tr style=\"text-align: right;\">\n",
       "      <th></th>\n",
       "      <th>hex_id</th>\n",
       "      <th>value</th>\n",
       "    </tr>\n",
       "  </thead>\n",
       "  <tbody>\n",
       "    <tr>\n",
       "      <th>0</th>\n",
       "      <td>8509a093fffffff</td>\n",
       "      <td>1</td>\n",
       "    </tr>\n",
       "    <tr>\n",
       "      <th>1</th>\n",
       "      <td>8509a097fffffff</td>\n",
       "      <td>1</td>\n",
       "    </tr>\n",
       "    <tr>\n",
       "      <th>2</th>\n",
       "      <td>8509a463fffffff</td>\n",
       "      <td>1</td>\n",
       "    </tr>\n",
       "    <tr>\n",
       "      <th>3</th>\n",
       "      <td>8509a46ffffffff</td>\n",
       "      <td>1</td>\n",
       "    </tr>\n",
       "    <tr>\n",
       "      <th>4</th>\n",
       "      <td>8509a473fffffff</td>\n",
       "      <td>1</td>\n",
       "    </tr>\n",
       "  </tbody>\n",
       "</table>\n",
       "</div>"
      ],
      "text/plain": [
       "            hex_id  value\n",
       "0  8509a093fffffff      1\n",
       "1  8509a097fffffff      1\n",
       "2  8509a463fffffff      1\n",
       "3  8509a46ffffffff      1\n",
       "4  8509a473fffffff      1"
      ]
     },
     "execution_count": 87,
     "metadata": {},
     "output_type": "execute_result"
    }
   ],
   "source": [
    "\t\n",
    "counts = gdf.groupby([\"hex_id\"]).size().reset_index(name='value')\n",
    "counts.head()"
   ]
  },
  {
   "cell_type": "markdown",
   "metadata": {},
   "source": [
    "Save to CSV so we can upload this dataset to https://kepler.gl/demo to play with.\n",
    "Currently it's not possible to generate a config file directly through Jupyter Notebooks\n",
    "https://github.com/keplergl/kepler.gl/issues/1626"
   ]
  },
  {
   "cell_type": "code",
   "execution_count": 88,
   "metadata": {},
   "outputs": [],
   "source": [
    "counts.to_csv(\"pub_counts.csv\", index=False)"
   ]
  },
  {
   "cell_type": "markdown",
   "metadata": {},
   "source": [
    "Render map in notebook"
   ]
  },
  {
   "cell_type": "code",
   "execution_count": 90,
   "metadata": {},
   "outputs": [
    {
     "data": {
      "application/vnd.jupyter.widget-view+json": {
       "model_id": "42222f71cbc64680ac023c3e331f273f",
       "version_major": 2,
       "version_minor": 0
      },
      "text/plain": [
       "KeplerGl(config={'version': 'v1', 'config': {'visState': {'filters': [], 'layers': [{'id': '678wozt', 'type': …"
      ]
     },
     "metadata": {},
     "output_type": "display_data"
    }
   ],
   "source": [
    "config = json.load(open(\"config.json\"))\n",
    "map = KeplerGl(show_docs=False, config=config)\n",
    "map.add_data(counts)\n",
    "map"
   ]
  },
  {
   "cell_type": "markdown",
   "metadata": {},
   "source": [
    "Finally, save output for deployment"
   ]
  },
  {
   "cell_type": "code",
   "execution_count": 91,
   "metadata": {},
   "outputs": [
    {
     "name": "stdout",
     "output_type": "stream",
     "text": [
      "Map saved to index.html!\n"
     ]
    }
   ],
   "source": [
    "map.save_to_html(file_name=\"index.html\")"
   ]
  }
 ],
 "metadata": {
  "interpreter": {
   "hash": "63fd5069d213b44bf678585dea6b12cceca9941eaf7f819626cde1f2670de90d"
  },
  "kernelspec": {
   "display_name": "Python 3.9.0 64-bit",
   "language": "python",
   "name": "python3"
  },
  "language_info": {
   "codemirror_mode": {
    "name": "ipython",
    "version": 3
   },
   "file_extension": ".py",
   "mimetype": "text/x-python",
   "name": "python",
   "nbconvert_exporter": "python",
   "pygments_lexer": "ipython3",
   "version": "3.9.5"
  },
  "orig_nbformat": 4
 },
 "nbformat": 4,
 "nbformat_minor": 2
}
